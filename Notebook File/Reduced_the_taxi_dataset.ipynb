{
  "nbformat": 4,
  "nbformat_minor": 0,
  "metadata": {
    "colab": {
      "provenance": []
    },
    "kernelspec": {
      "name": "python3",
      "display_name": "Python 3"
    },
    "language_info": {
      "name": "python"
    }
  },
  "cells": [
    {
      "cell_type": "code",
      "execution_count": null,
      "metadata": {
        "colab": {
          "base_uri": "https://localhost:8080/"
        },
        "id": "fOS_IbYt2vJ7",
        "outputId": "5b2b3cc6-cc1d-46e1-fa2b-5f014d92ad3c"
      },
      "outputs": [
        {
          "output_type": "stream",
          "name": "stdout",
          "text": [
            "CSV processed. Approximately 1000 lines are now in 'output_reduced.csv'.\n"
          ]
        }
      ],
      "source": [
        "import pandas as pd\n",
        "import random\n",
        "\n",
        "# Define the number of lines you want to keep\n",
        "desired_lines = 1000\n",
        "\n",
        "# Read the CSV file\n",
        "df = pd.read_csv('taxi_data.csv')  # Replace 'your_input_file.csv' with your actual file name\n",
        "\n",
        "# Check if the dataframe has more rows than desired\n",
        "if len(df) > desired_lines:\n",
        "    # Calculate how many rows need to be deleted\n",
        "    rows_to_delete = len(df) - desired_lines\n",
        "\n",
        "    # Get indices of all rows\n",
        "    indices = df.index.tolist()\n",
        "\n",
        "    # Randomly select rows for deletion\n",
        "    rows_to_drop = random.sample(indices, rows_to_delete)\n",
        "\n",
        "    # Drop the selected rows\n",
        "    df = df.drop(rows_to_drop)\n",
        "\n",
        "    # Reset index after dropping rows to ensure continuity\n",
        "    df = df.reset_index(drop=True)\n",
        "\n",
        "# Write the resulting dataframe to a new CSV file\n",
        "df.to_csv('output_reduced.csv', index=False)\n",
        "\n",
        "print(f\"CSV processed. Approximately {len(df)} lines are now in 'output_reduced.csv'.\")"
      ]
    }
  ]
}